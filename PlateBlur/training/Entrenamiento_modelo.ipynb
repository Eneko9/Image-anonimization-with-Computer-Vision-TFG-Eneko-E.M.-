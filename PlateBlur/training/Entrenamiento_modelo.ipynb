{
  "cells": [
    {
      "cell_type": "code",
      "execution_count": null,
      "metadata": {
        "colab": {
          "base_uri": "https://localhost:8080/"
        },
        "id": "LyKlqEDt9-70",
        "outputId": "901a2ecb-b884-436b-ad15-209c57413b59"
      },
      "outputs": [
        {
          "output_type": "stream",
          "name": "stdout",
          "text": [
            "Drive already mounted at /content/drive; to attempt to forcibly remount, call drive.mount(\"/content/drive\", force_remount=True).\n"
          ]
        }
      ],
      "source": [
        "from google.colab import drive\n",
        "drive.mount('/content/drive')"
      ]
    },
    {
      "cell_type": "code",
      "execution_count": null,
      "metadata": {
        "id": "EgbAwY4qhOGg"
      },
      "outputs": [],
      "source": [
        "!git clone https://github.com/ultralytics/yolov5\n",
        "!pip install -r /content/yolov5/requirements.txt"
      ]
    },
    {
      "cell_type": "code",
      "execution_count": null,
      "metadata": {
        "id": "UQqicJdUirvN"
      },
      "outputs": [],
      "source": [
        "#img image size default 640\n",
        "#batch size tama;o del lotr\n",
        "#epochs iteraciones\n",
        "#data path of yaml file\n",
        "#weights pesos\n",
        "\n",
        "!python /content/yolov5/train.py --img 640 --batch 16 --epochs 8 --data /content/drive/Shareddrives/Teknei/Yolo/KaggleCoches/config.yaml --weights yolov5s.pt\n"
      ]
    },
    {
      "cell_type": "code",
      "execution_count": null,
      "metadata": {
        "colab": {
          "background_save": true
        },
        "id": "azJ4lIxGk9YC"
      },
      "outputs": [],
      "source": [
        "!python /content/yolov5/train.py --img 640 --batch 16 --epochs 8 --data /content/drive/Shareddrives/Teknei/Yolo/KaggleCoches/config.yaml --weights /content/drive/Shareddrives/Teknei/Yolo/KaggleCoches/weights/best-2.pt\n"
      ]
    },
    {
      "cell_type": "code",
      "execution_count": null,
      "metadata": {
        "id": "VklOsuyghuyq"
      },
      "outputs": [],
      "source": [
        "!python /content/yolov5/train.py --img 640 --batch 16 --epochs 8 --data /content/drive/Shareddrives/Teknei/Yolo/KaggleCoches/config.yaml --weights /content/drive/Shareddrives/Teknei/Yolo/KaggleCoches/weights/best.pt\n"
      ]
    },
    {
      "cell_type": "code",
      "source": [
        "import torch\n",
        "import pandas as pd\n",
        "# Model\n",
        "model = torch.hub.load('/content/yolov5', 'custom', path='/content/drive/Shareddrives/Teknei/Yolo/KaggleCoches/weights/best-3.pt', source='local')  # default"
      ],
      "metadata": {
        "colab": {
          "base_uri": "https://localhost:8080/"
        },
        "id": "sPr0aLc7jP-r",
        "outputId": "3ab98bd4-68ef-47da-c83a-42c433b8ae1c"
      },
      "execution_count": null,
      "outputs": [
        {
          "output_type": "stream",
          "name": "stderr",
          "text": [
            "\u001b[31m\u001b[1mrequirements:\u001b[0m PyYAML>=5.3.1 not found and is required by YOLOv5, attempting auto-update...\n",
            "Requirement already satisfied: PyYAML>=5.3.1 in /usr/local/lib/python3.7/dist-packages (6.0)\n",
            "\n",
            "\u001b[31m\u001b[1mrequirements:\u001b[0m 1 package updated per /root/.cache/torch/hub/ultralytics_yolov5_master/requirements.txt\n",
            "\u001b[31m\u001b[1mrequirements:\u001b[0m ⚠️ \u001b[1mRestart runtime or rerun command for updates to take effect\u001b[0m\n",
            "\n",
            "YOLOv5 🚀 2022-3-9 torch 1.10.0+cu111 CUDA:0 (Tesla K80, 11441MiB)\n",
            "\n",
            "Fusing layers... \n",
            "Model Summary: 213 layers, 7012822 parameters, 0 gradients, 15.8 GFLOPs\n",
            "Adding AutoShape... \n"
          ]
        }
      ]
    },
    {
      "cell_type": "code",
      "execution_count": null,
      "metadata": {
        "id": "5RZQS17SHiO9",
        "colab": {
          "base_uri": "https://localhost:8080/"
        },
        "outputId": "118c07c5-1de3-478f-f7f9-d627b6ab46e8"
      },
      "outputs": [
        {
          "output_type": "stream",
          "name": "stdout",
          "text": [
            "Resultado\n",
            "[{'box': [tensor(721.29590, device='cuda:0'), tensor(482.53244, device='cuda:0'), tensor(958.23395, device='cuda:0'), tensor(538.68945, device='cuda:0')], 'conf': tensor(0.51959, device='cuda:0'), 'cls': tensor(0., device='cuda:0'), 'label': 'plate 0.52', 'im': array([[[ 40,  27, 143],\n",
            "        [ 41,  29, 141],\n",
            "        [ 46,  33, 141],\n",
            "        ...,\n",
            "        [ 45,  29, 136],\n",
            "        [ 44,  28, 135],\n",
            "        [ 41,  26, 134]],\n",
            "\n",
            "       [[ 41,  27, 153],\n",
            "        [ 41,  27, 152],\n",
            "        [ 41,  26, 148],\n",
            "        ...,\n",
            "        [ 45,  26, 143],\n",
            "        [ 46,  29, 144],\n",
            "        [ 46,  29, 144]],\n",
            "\n",
            "       [[ 45,  27, 144],\n",
            "        [ 48,  31, 146],\n",
            "        [ 49,  32, 147],\n",
            "        ...,\n",
            "        [ 43,  25, 138],\n",
            "        [ 43,  25, 138],\n",
            "        [ 42,  24, 137]],\n",
            "\n",
            "       ...,\n",
            "\n",
            "       [[ 36,  11, 103],\n",
            "        [ 35,  12, 104],\n",
            "        [ 33,  12, 105],\n",
            "        ...,\n",
            "        [ 27,  19,  80],\n",
            "        [ 30,  22,  82],\n",
            "        [ 30,  24,  79]],\n",
            "\n",
            "       [[ 30,  15,  73],\n",
            "        [ 30,  15,  72],\n",
            "        [ 30,  15,  72],\n",
            "        ...,\n",
            "        [ 26,  16,  63],\n",
            "        [ 29,  20,  63],\n",
            "        [ 26,  18,  58]],\n",
            "\n",
            "       [[ 23,  22,  38],\n",
            "        [ 25,  22,  38],\n",
            "        [ 25,  22,  37],\n",
            "        ...,\n",
            "        [ 24,  13,  51],\n",
            "        [ 26,  17,  50],\n",
            "        [ 22,  14,  44]]], dtype=uint8)}]\n"
          ]
        }
      ],
      "source": [
        "# Images\n",
        "img = '/content/drive/Shareddrives/Teknei/imagenes_coches/Ibiza_1927JXK.jpg'  # or file, Path, PIL, OpenCV, numpy, list\n",
        "\n",
        "# Inference\n",
        "results = model(img)\n",
        "\n",
        "# Results\n",
        "print(\"Resultado\")\n",
        "\n",
        "#data = results.pandas().xyxy[0]\n",
        "#data = results.crop(save=False)  \n",
        "#data = results.pandas().xyxy[0].sort_values('ymax')\n",
        "\n",
        "print(data)\n",
        "\n"
      ]
    }
  ],
  "metadata": {
    "accelerator": "GPU",
    "colab": {
      "collapsed_sections": [],
      "name": "Entrenamiento modelo.ipynb",
      "provenance": []
    },
    "kernelspec": {
      "display_name": "Python 3",
      "name": "python3"
    },
    "language_info": {
      "name": "python"
    }
  },
  "nbformat": 4,
  "nbformat_minor": 0
}